{
 "cells": [
  {
   "cell_type": "markdown",
   "metadata": {},
   "source": [
    "## Load libraries"
   ]
  },
  {
   "cell_type": "code",
   "execution_count": null,
   "metadata": {},
   "outputs": [],
   "source": [
    "from keras.models import Model, load_model\n",
    "from stability_vae.tgru_k2_gpu import TerminalGRU"
   ]
  },
  {
   "cell_type": "code",
   "execution_count": null,
   "metadata": {},
   "outputs": [],
   "source": [
    "encoder = load_model(\"../checkpoints/zinc/zinc_encoder.h5\")\n",
    "encoder.summary()"
   ]
  },
  {
   "cell_type": "code",
   "execution_count": null,
   "metadata": {},
   "outputs": [],
   "source": [
    "decoder = load_model(\"../checkpoints/zinc/zinc_decoder.h5\", custom_objects={\"TerminalGRU\": TerminalGRU})\n",
    "decoder.summary()"
   ]
  },
  {
   "cell_type": "code",
   "execution_count": null,
   "metadata": {},
   "outputs": [],
   "source": [
    "# tensorflow backend\n",
    "from os import environ\n",
    "environ['KERAS_BACKEND'] = 'tensorflow'\n",
    "# vae stuff\n",
    "from stability_vae.vae_utils import VAEUtils\n",
    "from stability_vae import mol_utils as mu\n",
    "# import scientific py\n",
    "import numpy as np\n",
    "import pandas as pd\n",
    "# rdkit stuff\n",
    "from rdkit.Chem import AllChem as Chem\n",
    "from rdkit.Chem import PandasTools\n",
    "# plotting stuff\n",
    "import matplotlib.pyplot as plt\n",
    "import matplotlib as mpl\n",
    "from IPython.display import SVG, display\n",
    "%config InlineBackend.figure_format = 'retina'\n",
    "%matplotlib inline"
   ]
  },
  {
   "cell_type": "markdown",
   "metadata": {},
   "source": [
    "# Load a model"
   ]
  },
  {
   "cell_type": "code",
   "execution_count": null,
   "metadata": {},
   "outputs": [],
   "source": [
    "vae = VAEUtils(directory='../models/zinc_properties')"
   ]
  },
  {
   "cell_type": "markdown",
   "metadata": {},
   "source": [
    "# Using the VAE\n"
   ]
  },
  {
   "cell_type": "markdown",
   "metadata": {},
   "source": [
    "## Decode/Encode \n",
    "\n",
    "Might not be perfect (it's probabilistic), try it several times.\n",
    "\n",
    "smiles <i class=\"fa fa-arrow-right\" aria-hidden=\"true\"></i> x <i class=\"fa fa-arrow-right\" aria-hidden=\"true\"></i> z <i class=\"fa fa-arrow-right\" aria-hidden=\"true\"></i> x_r <i class=\"fa fa-arrow-right\" aria-hidden=\"true\"></i> smiles_r"
   ]
  },
  {
   "cell_type": "code",
   "execution_count": null,
   "metadata": {},
   "outputs": [],
   "source": [
    "smiles_1 = mu.canon_smiles('CSCC(=O)NNC(=O)c1c(C)oc(C)c1C')\n",
    "\n",
    "X_1 = vae.smiles_to_hot(smiles_1,canonize_smiles=True)\n",
    "z_1 = vae.encode(X_1)\n",
    "X_r= vae.decode(z_1)\n",
    "\n",
    "print('{:20s} : {}'.format('Input',smiles_1))\n",
    "print('{:20s} : {}'.format('Reconstruction',vae.hot_to_smiles(X_r,strip=True)[0]))\n",
    "\n",
    "print('{:20s} : {} with norm {:.3f}'.format('Z representation',z_1.shape, np.linalg.norm(z_1)))"
   ]
  },
  {
   "cell_type": "markdown",
   "metadata": {},
   "source": [
    "## property preditor"
   ]
  },
  {
   "cell_type": "code",
   "execution_count": null,
   "metadata": {},
   "outputs": [],
   "source": [
    "print('Properties (qed,SAS,logP):')\n",
    "y_1 = vae.predict_prop_Z(z_1)[0]\n",
    "print(y_1)"
   ]
  },
  {
   "cell_type": "markdown",
   "metadata": {},
   "source": [
    "## Decode several attempts\n",
    "VAE are probabilistic"
   ]
  },
  {
   "cell_type": "code",
   "execution_count": null,
   "metadata": {},
   "outputs": [],
   "source": [
    "noise=5.0\n",
    "print('Searching molecules randomly sampled from {:.2f} std (z-distance) from the point'.format(noise))\n",
    "df = vae.z_to_smiles( z_1,decode_attempts=100,noise_norm=noise)\n",
    "print('Found {:d} unique mols, out of {:d}'.format(len(set(df['smiles'])),sum(df['count'])))\n",
    "print('SMILES\\n',df.smiles)\n",
    "display(PandasTools.FrameToGridImage(df,column='mol', legendsCol='smiles',molsPerRow=5))\n",
    "df.head()"
   ]
  },
  {
   "cell_type": "markdown",
   "metadata": {},
   "source": [
    "## PCA of latent space\n",
    "\n",
    "Sample random points from the training set along with properties"
   ]
  },
  {
   "cell_type": "code",
   "execution_count": null,
   "metadata": {},
   "outputs": [],
   "source": [
    "Z, data, smiles = vae.ls_sampler_w_prop(size=50000,return_smiles=True)\n",
    "prop_opt = 'qed'\n",
    "prop_df = pd.DataFrame(data).reset_index()\n",
    "prop_df['smiles']=smiles\n",
    "prop_df.head()"
   ]
  },
  {
   "cell_type": "markdown",
   "metadata": {},
   "source": [
    "Perform a PCA projection and color the points based on a property"
   ]
  },
  {
   "cell_type": "code",
   "execution_count": null,
   "metadata": {},
   "outputs": [],
   "source": [
    "from sklearn.decomposition import PCA\n",
    "from sklearn.preprocessing import MinMaxScaler\n",
    "\n",
    "# do pca and normalize\n",
    "Z_pca = PCA(n_components=2).fit_transform(Z)\n",
    "Z_pca = MinMaxScaler().fit_transform(Z_pca)\n",
    "\n",
    "df = pd.DataFrame(np.transpose((Z_pca[:,0],Z_pca[:,1])))\n",
    "df.columns = ['x','y']\n",
    "df[prop_opt]=prop_df[prop_opt]\n",
    "\n",
    "plt.scatter(x=df['x'], y=df['y'], c=df[prop_opt],\n",
    "            cmap= 'viridis', marker='.',\n",
    "            s=10,alpha=0.5, edgecolors='none')\n",
    "plt.show()"
   ]
  },
  {
   "cell_type": "markdown",
   "metadata": {},
   "source": [
    "compare with t-SNE, will take some time"
   ]
  },
  {
   "cell_type": "code",
   "execution_count": null,
   "metadata": {},
   "outputs": [],
   "source": [
    "from sklearn.manifold import TSNE\n",
    "\n",
    "Z_tsne = TSNE(n_components=2).fit_transform(Z)\n",
    "Z_tsne = MinMaxScaler().fit_transform(Z_tsne)\n",
    "\n",
    "f = pd.DataFrame(np.transpose((Z_tsne[:,0],Z_tsne[:,1])))\n",
    "df.columns = ['x','y']\n",
    "df[prop_opt]=prop_df[prop_opt]\n",
    "\n",
    "plt.scatter(x=df['x'], y=df['y'], c=df[prop_opt],\n",
    "            cmap= 'viridis', marker='.',\n",
    "            s=10,alpha=0.5, edgecolors='none')\n",
    "plt.show()"
   ]
  }
 ],
 "metadata": {
  "kernelspec": {
   "display_name": "stability_vae",
   "language": "python",
   "name": "python3"
  },
  "language_info": {
   "codemirror_mode": {
    "name": "ipython",
    "version": 3
   },
   "file_extension": ".py",
   "mimetype": "text/x-python",
   "name": "python",
   "nbconvert_exporter": "python",
   "pygments_lexer": "ipython3",
   "version": "3.10.13"
  },
  "toc": {
   "nav_menu": {},
   "number_sections": true,
   "sideBar": true,
   "skip_h1_title": false,
   "toc_cell": false,
   "toc_position": {},
   "toc_section_display": "block",
   "toc_window_display": false
  }
 },
 "nbformat": 4,
 "nbformat_minor": 2
}
